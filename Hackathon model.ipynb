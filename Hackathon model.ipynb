{
 "cells": [
  {
   "cell_type": "markdown",
   "id": "880a4334",
   "metadata": {},
   "source": [
    "## 1.Importing the Dataset\n",
    "for this section, we are going to divide it into two;\n",
    "\n",
    "importing required libraries\n",
    "importing the dataset\n",
    "\n",
    "1.1 Importing required libraries\n",
    "Focus on importing all the required libraries. Some of which will help us when importing the data."
   ]
  },
  {
   "cell_type": "code",
   "execution_count": 1,
   "id": "19b7fb5e",
   "metadata": {},
   "outputs": [],
   "source": [
    "# import libraries to be used in data wrangling and data manipulation\n",
    "import numpy as np\n",
    "import pandas as pd\n",
    "\n",
    "#import libraries important during the EDA process\n",
    "import matplotlib.pyplot as plt\n",
    "import seaborn as sns\n",
    "import string\n",
    "\n",
    "#import libraries for feature extraction \n",
    "from sklearn.feature_extraction.text import TfidfVectorizer\n",
    "from sklearn.preprocessing import LabelEncoder\n",
    "from sklearn.model_selection import train_test_split\n",
    "\n",
    "# import models to be used for the modelling process\n",
    "from sklearn.preprocessing import StandardScaler\n",
    "from sklearn.ensemble import RandomForestClassifier\n",
    "from sklearn.naive_bayes import MultinomialNB\n",
    "from sklearn.svm import SVC\n",
    "\n",
    "#import libraries for model evaluation\n",
    "from sklearn.metrics import classification_report"
   ]
  },
  {
   "cell_type": "code",
   "execution_count": 2,
   "id": "845e194b",
   "metadata": {},
   "outputs": [],
   "source": [
    "# import the train dataset\n",
    "train = pd.read_csv('train_set.csv')\n",
    "\n",
    "# import the test set\n",
    "test = pd.read_csv('test_set.csv')"
   ]
  },
  {
   "cell_type": "code",
   "execution_count": 3,
   "id": "c3bf04a2",
   "metadata": {},
   "outputs": [
    {
     "data": {
      "text/html": [
       "<div>\n",
       "<style scoped>\n",
       "    .dataframe tbody tr th:only-of-type {\n",
       "        vertical-align: middle;\n",
       "    }\n",
       "\n",
       "    .dataframe tbody tr th {\n",
       "        vertical-align: top;\n",
       "    }\n",
       "\n",
       "    .dataframe thead th {\n",
       "        text-align: right;\n",
       "    }\n",
       "</style>\n",
       "<table border=\"1\" class=\"dataframe\">\n",
       "  <thead>\n",
       "    <tr style=\"text-align: right;\">\n",
       "      <th></th>\n",
       "      <th>lang_id</th>\n",
       "      <th>text</th>\n",
       "    </tr>\n",
       "  </thead>\n",
       "  <tbody>\n",
       "    <tr>\n",
       "      <th>0</th>\n",
       "      <td>xho</td>\n",
       "      <td>umgaqo-siseko wenza amalungiselelo kumaziko ax...</td>\n",
       "    </tr>\n",
       "    <tr>\n",
       "      <th>1</th>\n",
       "      <td>xho</td>\n",
       "      <td>i-dha iya kuba nobulumko bokubeka umsebenzi na...</td>\n",
       "    </tr>\n",
       "    <tr>\n",
       "      <th>2</th>\n",
       "      <td>eng</td>\n",
       "      <td>the province of kwazulu-natal department of tr...</td>\n",
       "    </tr>\n",
       "    <tr>\n",
       "      <th>3</th>\n",
       "      <td>nso</td>\n",
       "      <td>o netefatša gore o ba file dilo ka moka tše le...</td>\n",
       "    </tr>\n",
       "    <tr>\n",
       "      <th>4</th>\n",
       "      <td>ven</td>\n",
       "      <td>khomishini ya ndinganyiso ya mbeu yo ewa maana...</td>\n",
       "    </tr>\n",
       "  </tbody>\n",
       "</table>\n",
       "</div>"
      ],
      "text/plain": [
       "  lang_id                                               text\n",
       "0     xho  umgaqo-siseko wenza amalungiselelo kumaziko ax...\n",
       "1     xho  i-dha iya kuba nobulumko bokubeka umsebenzi na...\n",
       "2     eng  the province of kwazulu-natal department of tr...\n",
       "3     nso  o netefatša gore o ba file dilo ka moka tše le...\n",
       "4     ven  khomishini ya ndinganyiso ya mbeu yo ewa maana..."
      ]
     },
     "execution_count": 3,
     "metadata": {},
     "output_type": "execute_result"
    }
   ],
   "source": [
    "# take a look at the dataset\n",
    "train.head()"
   ]
  },
  {
   "cell_type": "code",
   "execution_count": 4,
   "id": "aab0f293",
   "metadata": {},
   "outputs": [
    {
     "data": {
      "text/plain": [
       "Text(0.5, 1.0, 'distribution of languages')"
      ]
     },
     "execution_count": 4,
     "metadata": {},
     "output_type": "execute_result"
    },
    {
     "data": {
      "image/png": "[encoded data removed]",
      "text/plain": [
       "<Figure size 640x480 with 1 Axes>"
      ]
     },
     "metadata": {},
     "output_type": "display_data"
    }
   ],
   "source": [
    "#check for the variable distribution off the dataset\n",
    "sns.countplot(x = 'lang_id', data = train, palette = 'hls')\n",
    "plt.title(\"distribution of languages\")"
   ]
  },
  {
   "cell_type": "markdown",
   "id": "1090b03a",
   "metadata": {},
   "source": [
    "The data is evenly distributed hence it does not need to be resample since there is no class imbalance"
   ]
  },
  {
   "cell_type": "code",
   "execution_count": 5,
   "id": "f54a2af4",
   "metadata": {},
   "outputs": [],
   "source": [
    "#check for punctuations in the data\n",
    "#train.loc[train['text'].str.contains(string.punctuation)]"
   ]
  },
  {
   "cell_type": "code",
   "execution_count": 6,
   "id": "c22c83c9",
   "metadata": {},
   "outputs": [],
   "source": [
    "# remove available punctuation marks\n",
    "def punc_remover(text):\n",
    "    return ''.join(text.replace('-', '').replace('.', ''))"
   ]
  },
  {
   "cell_type": "code",
   "execution_count": 7,
   "id": "b921f2a1",
   "metadata": {},
   "outputs": [],
   "source": [
    "train['text'] = train['text'].apply(punc_remover)"
   ]
  },
  {
   "cell_type": "code",
   "execution_count": 8,
   "id": "3a63935f",
   "metadata": {},
   "outputs": [],
   "source": [
    "#remove available punctuations from the test data\n",
    "test['text'] = test['text'].apply(punc_remover)"
   ]
  },
  {
   "cell_type": "code",
   "execution_count": 9,
   "id": "496b356f",
   "metadata": {},
   "outputs": [],
   "source": [
    "#declare the label to start encoding\n",
    "\n",
    "y_train = train['lang_id']"
   ]
  },
  {
   "cell_type": "code",
   "execution_count": 10,
   "id": "b2bec656",
   "metadata": {},
   "outputs": [],
   "source": [
    "#encode the label\n",
    "#encoder = LabelEncoder()\n",
    "#y_train = pd.DataFrame(data = encoder.fit_transform(y_train))\n",
    "#print(y_train)\n"
   ]
  },
  {
   "cell_type": "code",
   "execution_count": 11,
   "id": "aaf22574",
   "metadata": {},
   "outputs": [],
   "source": [
    "#generate features for the model using tf-idf\n",
    "vect = TfidfVectorizer(analyzer='word', ngram_range=(1,3), max_df= 0.75, min_df=2)\n",
    "X_train = vect.fit_transform(train['text'])\n",
    "X_test = vect.transform(test['text'])"
   ]
  },
  {
   "cell_type": "code",
   "execution_count": 12,
   "id": "aea495ca",
   "metadata": {},
   "outputs": [],
   "source": [
    "X_train, X_val, y_train, y_val = train_test_split(X_train, y_train, test_size=0.2, random_state = 40)"
   ]
  },
  {
   "cell_type": "code",
   "execution_count": null,
   "id": "80086a43",
   "metadata": {},
   "outputs": [],
   "source": [
    "#create models for the dataset\n",
    "\n",
    "#create a function that takes a model, data and returns a trained model\n",
    "\n",
    "def trainer(model, X_train, y_train):\n",
    "    \n",
    "    trained_model = model.fit(X_train, np.ravel(y_train))\n",
    "\n",
    "    return trained_model\n",
    "\n",
    "#start instantiating models\n",
    "\n",
    "#train a random forest classifier model\n",
    "rfc = trainer(RandomForestClassifier(random_state=40), X_train, y_train)\n",
    "\n",
    "#train a naive bayes model\n",
    "# a multinomial model was used due to the discrete nature of the features\n",
    "nb = trainer(MultinomialNB(), X_train, y_train)\n",
    "\n",
    "#train a support vector classifier model\n",
    "svc = trainer(SVC(), X_train, y_train)\n",
    "\n",
    "#make predictions of the validation set with the models\n",
    "rfc_preds = rfc.predict(X_val)\n",
    "nb_preds = nb.predict(X_val)\n",
    "svc_preds = svc.predict(X_val)\n"
   ]
  },
  {
   "cell_type": "code",
   "execution_count": null,
   "id": "ccd0ae7a",
   "metadata": {},
   "outputs": [],
   "source": [
    "#evaluate the models to check the perfomance\n",
    "\n",
    "#print out a classification report for the random forest classifier\n",
    "print(\"rfc report\\n\", classification_report(y_val, rfc_preds))"
   ]
  },
  {
   "cell_type": "code",
   "execution_count": null,
   "id": "fe1e4336",
   "metadata": {},
   "outputs": [],
   "source": [
    "#evaluate the models to check the perfomance\n",
    "\n",
    "#print out a classification report for the naive bayes model\n",
    "print(\"nb report\\n\", classification_report(y_val, nb_preds))"
   ]
  },
  {
   "cell_type": "code",
   "execution_count": null,
   "id": "b68d0088",
   "metadata": {},
   "outputs": [],
   "source": [
    "#print out the classification report for the svc model\n",
    "print('svc report\\n', classification_report(y_val, svc_preds))"
   ]
  },
  {
   "cell_type": "code",
   "execution_count": null,
   "id": "37787b65",
   "metadata": {},
   "outputs": [],
   "source": [
    "#generate a submission file for the kaggle competition\n",
    "\n",
    "#start by creating a dictionary that matches\n",
    "y_test = nb.predict(X_test)\n",
    "submission = pd.DataFrame({'index':np.arange(1,len(y_test)+1,1), 'lang_id':y_test})\n",
    "submission.to_csv('submission.csv', index=False)\n"
   ]
  },
  {
   "cell_type": "code",
   "execution_count": null,
   "id": "bc5ecfac",
   "metadata": {},
   "outputs": [],
   "source": []
  }
 ],
 "metadata": {
  "kernelspec": {
   "display_name": "Python 3 (ipykernel)",
   "language": "python",
   "name": "python3"
  },
  "language_info": {
   "codemirror_mode": {
    "name": "ipython",
    "version": 3
   },
   "file_extension": ".py",
   "mimetype": "text/x-python",
   "name": "python",
   "nbconvert_exporter": "python",
   "pygments_lexer": "ipython3",
   "version": "3.11.3"
  }
 },
 "nbformat": 4,
 "nbformat_minor": 5
}
